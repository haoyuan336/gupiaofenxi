{
 "cells": [
  {
   "cell_type": "code",
   "execution_count": 58,
   "metadata": {},
   "outputs": [],
   "source": [
    "import requests as req\n",
    "import pandas as pd\n",
    "import datetime\n",
    "import json\n",
    "befordaycount = 30\n",
    "code = \"cn_000596\"\n",
    "startTime = 20150120\n",
    "endTime = 20200729\n",
    "def getZSData(start, end):\n",
    "    url = \"https://q.stock.sohu.com/hisHq?code=zs_000001&start={}&end={}\".format(start, end)\n",
    "    print(url)\n",
    "    res = req.get(url)\n",
    "    return json.loads(res.text)\n",
    "def getData(code, start, end):\n",
    "    url = \"https://q.stock.sohu.com/hisHq?code={}&start={}&end={}\".format(code, start, end)\n",
    "    print(url)\n",
    "    res = req.get(url)\n",
    "#     print(res)\n",
    "    return json.loads(res.text)"
   ]
  },
  {
   "cell_type": "code",
   "execution_count": 59,
   "metadata": {},
   "outputs": [],
   "source": [
    "def convertWeek(dt):\n",
    "    week=datetime.datetime.strptime(dt, \"%Y-%m-%d\").weekday()\n",
    "    return week\n",
    "def convertToFloat(num):\n",
    "    num = num.replace(\"%\", \"\")\n",
    "    if num != \"-\":\n",
    "        num = float(num)\n",
    "    else:\n",
    "        num = 0\n",
    "    return num\n"
   ]
  },
  {
   "cell_type": "code",
   "execution_count": 60,
   "metadata": {},
   "outputs": [],
   "source": [
    "def getBeforData(index, list, beforCount):\n",
    "    data = []\n",
    "    for i in range(index, index + beforCount):\n",
    "        if i < len(list):\n",
    "            data.append(list[i])\n",
    "    return data"
   ]
  },
  {
   "cell_type": "code",
   "execution_count": 61,
   "metadata": {},
   "outputs": [],
   "source": [
    "def connectData(beforData,fiveZSData, currentData):\n",
    "    list = []\n",
    "    for data in beforData:\n",
    "        list.append(convertToFloat(data[4]))\n",
    "        list.append(convertToFloat(data[9]))\n",
    "        \n",
    "\n",
    "    for data in fiveZSData:\n",
    "        list.append(convertToFloat(data[4]))\n",
    "    list.append(currentData)\n",
    "    return list"
   ]
  },
  {
   "cell_type": "code",
   "execution_count": 62,
   "metadata": {},
   "outputs": [
    {
     "name": "stdout",
     "output_type": "stream",
     "text": [
      "https://q.stock.sohu.com/hisHq?code=cn_000596&start=20150120&end=20200729\n",
      "https://q.stock.sohu.com/hisHq?code=zs_000001&start=20150120&end=20200729\n"
     ]
    }
   ],
   "source": [
    "data = getData(code, startTime, endTime)[0]['hq']\n",
    "zsData = getZSData(startTime, endTime)[0]['hq']"
   ]
  },
  {
   "cell_type": "code",
   "execution_count": 65,
   "metadata": {},
   "outputs": [],
   "source": [
    "allData = []\n",
    "indexList = []\n",
    "valuesLength = 0\n",
    "for  index in range(0, len(data)):\n",
    "    hq= data[index]\n",
    "#     week = convertWeek(hq[0])\n",
    "#     if week ==0:\n",
    "    fiveData = getBeforData(index + 1, data, befordaycount)\n",
    "    fiveZSData = getBeforData(index + 1, zsData,befordaycount)\n",
    "    if len(fiveData) ==befordaycount:\n",
    "#         indexList.append(hq[0])\n",
    "        \n",
    "        d = connectData(fiveData, fiveZSData,convertToFloat(hq[4]))\n",
    "        valuesLength = len(d)\n",
    "        allData.append(d)"
   ]
  },
  {
   "cell_type": "code",
   "execution_count": 66,
   "metadata": {},
   "outputs": [
    {
     "name": "stdout",
     "output_type": "stream",
     "text": [
      "91\n",
      "['num0', 'num1', 'num2', 'num3', 'num4', 'num5', 'num6', 'num7', 'num8', 'num9', 'num10', 'num11', 'num12', 'num13', 'num14', 'num15', 'num16', 'num17', 'num18', 'num19', 'num20', 'num21', 'num22', 'num23', 'num24', 'num25', 'num26', 'num27', 'num28', 'num29', 'num30', 'num31', 'num32', 'num33', 'num34', 'num35', 'num36', 'num37', 'num38', 'num39', 'num40', 'num41', 'num42', 'num43', 'num44', 'num45', 'num46', 'num47', 'num48', 'num49', 'num50', 'num51', 'num52', 'num53', 'num54', 'num55', 'num56', 'num57', 'num58', 'num59', 'num60', 'num61', 'num62', 'num63', 'num64', 'num65', 'num66', 'num67', 'num68', 'num69', 'num70', 'num71', 'num72', 'num73', 'num74', 'num75', 'num76', 'num77', 'num78', 'num79', 'num80', 'num81', 'num82', 'num83', 'num84', 'num85', 'num86', 'num87', 'num88', 'num89', 'num90']\n"
     ]
    }
   ],
   "source": [
    "print(valuesLength)\n",
    "columns = []\n",
    "for index in range(0,valuesLength):\n",
    "    columns.append(\"num{}\".format(index))\n",
    "print(columns)\n",
    "csvdata = pd.DataFrame(columns = columns, data=allData)\n",
    "csvdata.to_csv(\"{}_data.csv\".format(code))\n",
    "\n",
    "currentData = []\n",
    "\n",
    "currentFiveData = getBeforData(0, data, befordaycount)\n",
    "currentFiveZSData = getBeforData(0, zsData,befordaycount)\n",
    "d = connectData(currentFiveData, currentFiveZSData, 0)\n",
    "# valuesLength = len(d)\n",
    "currentData.append(d)\n",
    "currentData_csv = pd.DataFrame(columns = columns, data = currentData)\n",
    "currentData_csv.to_csv(\"{}_data_test.csv\".format(code));"
   ]
  },
  {
   "cell_type": "code",
   "execution_count": null,
   "metadata": {},
   "outputs": [],
   "source": []
  },
  {
   "cell_type": "code",
   "execution_count": null,
   "metadata": {},
   "outputs": [],
   "source": []
  },
  {
   "cell_type": "code",
   "execution_count": null,
   "metadata": {},
   "outputs": [],
   "source": []
  },
  {
   "cell_type": "code",
   "execution_count": null,
   "metadata": {},
   "outputs": [],
   "source": []
  },
  {
   "cell_type": "code",
   "execution_count": null,
   "metadata": {},
   "outputs": [],
   "source": []
  },
  {
   "cell_type": "code",
   "execution_count": null,
   "metadata": {},
   "outputs": [],
   "source": []
  },
  {
   "cell_type": "code",
   "execution_count": null,
   "metadata": {},
   "outputs": [],
   "source": []
  },
  {
   "cell_type": "code",
   "execution_count": null,
   "metadata": {},
   "outputs": [],
   "source": []
  }
 ],
 "metadata": {
  "kernelspec": {
   "display_name": "Python 3",
   "language": "python",
   "name": "python3"
  },
  "language_info": {
   "codemirror_mode": {
    "name": "ipython",
    "version": 3
   },
   "file_extension": ".py",
   "mimetype": "text/x-python",
   "name": "python",
   "nbconvert_exporter": "python",
   "pygments_lexer": "ipython3",
   "version": "3.7.6"
  }
 },
 "nbformat": 4,
 "nbformat_minor": 4
}
